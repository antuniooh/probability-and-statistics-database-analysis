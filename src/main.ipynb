{
 "cells": [
  {
   "cell_type": "code",
   "execution_count": 298,
   "metadata": {},
   "outputs": [],
   "source": [
    "#Antonio Muniz    22.119.001 - 0\n",
    "#Erik Fernando    22.119.074 - 7\n",
    "#Henrique Caralho 22.119.078 - 8"
   ]
  },
  {
   "cell_type": "code",
   "execution_count": 299,
   "metadata": {},
   "outputs": [],
   "source": [
    "#Passo 1 - Definir Database"
   ]
  },
  {
   "cell_type": "code",
   "execution_count": 300,
   "metadata": {},
   "outputs": [],
   "source": [
    "from scipy.stats import shapiro\n",
    "import pandas as pd\n",
    "import numpy as np\n",
    "from sklearn.linear_model import LinearRegression\n",
    "import matplotlib.pyplot as plt\n",
    "from sklearn import datasets\n",
    "\n",
    "df = pd.read_csv('data/concrete_data.csv')"
   ]
  },
  {
   "cell_type": "code",
   "execution_count": 301,
   "metadata": {},
   "outputs": [],
   "source": [
    "#Passo 2 - Limpar Database"
   ]
  },
  {
   "cell_type": "code",
   "execution_count": 302,
   "metadata": {},
   "outputs": [
    {
     "name": "stdout",
     "output_type": "stream",
     "text": [
      "Número de linhas e colunas: (1030, 9)\n"
     ]
    },
    {
     "data": {
      "text/html": [
       "<div>\n",
       "<style scoped>\n",
       "    .dataframe tbody tr th:only-of-type {\n",
       "        vertical-align: middle;\n",
       "    }\n",
       "\n",
       "    .dataframe tbody tr th {\n",
       "        vertical-align: top;\n",
       "    }\n",
       "\n",
       "    .dataframe thead th {\n",
       "        text-align: right;\n",
       "    }\n",
       "</style>\n",
       "<table border=\"1\" class=\"dataframe\">\n",
       "  <thead>\n",
       "    <tr style=\"text-align: right;\">\n",
       "      <th></th>\n",
       "      <th>cement</th>\n",
       "      <th>blast_furnace_slag</th>\n",
       "      <th>fly_ash</th>\n",
       "      <th>water</th>\n",
       "      <th>superplasticizer</th>\n",
       "      <th>coarse_aggregate</th>\n",
       "      <th>fine_aggregate</th>\n",
       "      <th>age</th>\n",
       "      <th>concrete_compressive_strength</th>\n",
       "    </tr>\n",
       "  </thead>\n",
       "  <tbody>\n",
       "    <tr>\n",
       "      <th>0</th>\n",
       "      <td>540.0</td>\n",
       "      <td>0.0</td>\n",
       "      <td>0.0</td>\n",
       "      <td>162.0</td>\n",
       "      <td>2.5</td>\n",
       "      <td>1040.0</td>\n",
       "      <td>676.0</td>\n",
       "      <td>28</td>\n",
       "      <td>79.99</td>\n",
       "    </tr>\n",
       "    <tr>\n",
       "      <th>1</th>\n",
       "      <td>540.0</td>\n",
       "      <td>0.0</td>\n",
       "      <td>0.0</td>\n",
       "      <td>162.0</td>\n",
       "      <td>2.5</td>\n",
       "      <td>1055.0</td>\n",
       "      <td>676.0</td>\n",
       "      <td>28</td>\n",
       "      <td>61.89</td>\n",
       "    </tr>\n",
       "    <tr>\n",
       "      <th>2</th>\n",
       "      <td>332.5</td>\n",
       "      <td>142.5</td>\n",
       "      <td>0.0</td>\n",
       "      <td>228.0</td>\n",
       "      <td>0.0</td>\n",
       "      <td>932.0</td>\n",
       "      <td>594.0</td>\n",
       "      <td>270</td>\n",
       "      <td>40.27</td>\n",
       "    </tr>\n",
       "    <tr>\n",
       "      <th>3</th>\n",
       "      <td>332.5</td>\n",
       "      <td>142.5</td>\n",
       "      <td>0.0</td>\n",
       "      <td>228.0</td>\n",
       "      <td>0.0</td>\n",
       "      <td>932.0</td>\n",
       "      <td>594.0</td>\n",
       "      <td>365</td>\n",
       "      <td>41.05</td>\n",
       "    </tr>\n",
       "    <tr>\n",
       "      <th>4</th>\n",
       "      <td>198.6</td>\n",
       "      <td>132.4</td>\n",
       "      <td>0.0</td>\n",
       "      <td>192.0</td>\n",
       "      <td>0.0</td>\n",
       "      <td>978.4</td>\n",
       "      <td>825.5</td>\n",
       "      <td>360</td>\n",
       "      <td>44.30</td>\n",
       "    </tr>\n",
       "    <tr>\n",
       "      <th>5</th>\n",
       "      <td>266.0</td>\n",
       "      <td>114.0</td>\n",
       "      <td>0.0</td>\n",
       "      <td>228.0</td>\n",
       "      <td>0.0</td>\n",
       "      <td>932.0</td>\n",
       "      <td>670.0</td>\n",
       "      <td>90</td>\n",
       "      <td>47.03</td>\n",
       "    </tr>\n",
       "    <tr>\n",
       "      <th>6</th>\n",
       "      <td>380.0</td>\n",
       "      <td>95.0</td>\n",
       "      <td>0.0</td>\n",
       "      <td>228.0</td>\n",
       "      <td>0.0</td>\n",
       "      <td>932.0</td>\n",
       "      <td>594.0</td>\n",
       "      <td>365</td>\n",
       "      <td>43.70</td>\n",
       "    </tr>\n",
       "    <tr>\n",
       "      <th>7</th>\n",
       "      <td>380.0</td>\n",
       "      <td>95.0</td>\n",
       "      <td>0.0</td>\n",
       "      <td>228.0</td>\n",
       "      <td>0.0</td>\n",
       "      <td>932.0</td>\n",
       "      <td>594.0</td>\n",
       "      <td>28</td>\n",
       "      <td>36.45</td>\n",
       "    </tr>\n",
       "    <tr>\n",
       "      <th>8</th>\n",
       "      <td>266.0</td>\n",
       "      <td>114.0</td>\n",
       "      <td>0.0</td>\n",
       "      <td>228.0</td>\n",
       "      <td>0.0</td>\n",
       "      <td>932.0</td>\n",
       "      <td>670.0</td>\n",
       "      <td>28</td>\n",
       "      <td>45.85</td>\n",
       "    </tr>\n",
       "    <tr>\n",
       "      <th>9</th>\n",
       "      <td>475.0</td>\n",
       "      <td>0.0</td>\n",
       "      <td>0.0</td>\n",
       "      <td>228.0</td>\n",
       "      <td>0.0</td>\n",
       "      <td>932.0</td>\n",
       "      <td>594.0</td>\n",
       "      <td>28</td>\n",
       "      <td>39.29</td>\n",
       "    </tr>\n",
       "    <tr>\n",
       "      <th>10</th>\n",
       "      <td>198.6</td>\n",
       "      <td>132.4</td>\n",
       "      <td>0.0</td>\n",
       "      <td>192.0</td>\n",
       "      <td>0.0</td>\n",
       "      <td>978.4</td>\n",
       "      <td>825.5</td>\n",
       "      <td>90</td>\n",
       "      <td>38.07</td>\n",
       "    </tr>\n",
       "    <tr>\n",
       "      <th>11</th>\n",
       "      <td>198.6</td>\n",
       "      <td>132.4</td>\n",
       "      <td>0.0</td>\n",
       "      <td>192.0</td>\n",
       "      <td>0.0</td>\n",
       "      <td>978.4</td>\n",
       "      <td>825.5</td>\n",
       "      <td>28</td>\n",
       "      <td>28.02</td>\n",
       "    </tr>\n",
       "    <tr>\n",
       "      <th>12</th>\n",
       "      <td>427.5</td>\n",
       "      <td>47.5</td>\n",
       "      <td>0.0</td>\n",
       "      <td>228.0</td>\n",
       "      <td>0.0</td>\n",
       "      <td>932.0</td>\n",
       "      <td>594.0</td>\n",
       "      <td>270</td>\n",
       "      <td>43.01</td>\n",
       "    </tr>\n",
       "    <tr>\n",
       "      <th>13</th>\n",
       "      <td>190.0</td>\n",
       "      <td>190.0</td>\n",
       "      <td>0.0</td>\n",
       "      <td>228.0</td>\n",
       "      <td>0.0</td>\n",
       "      <td>932.0</td>\n",
       "      <td>670.0</td>\n",
       "      <td>90</td>\n",
       "      <td>42.33</td>\n",
       "    </tr>\n",
       "    <tr>\n",
       "      <th>14</th>\n",
       "      <td>304.0</td>\n",
       "      <td>76.0</td>\n",
       "      <td>0.0</td>\n",
       "      <td>228.0</td>\n",
       "      <td>0.0</td>\n",
       "      <td>932.0</td>\n",
       "      <td>670.0</td>\n",
       "      <td>28</td>\n",
       "      <td>47.81</td>\n",
       "    </tr>\n",
       "    <tr>\n",
       "      <th>15</th>\n",
       "      <td>380.0</td>\n",
       "      <td>0.0</td>\n",
       "      <td>0.0</td>\n",
       "      <td>228.0</td>\n",
       "      <td>0.0</td>\n",
       "      <td>932.0</td>\n",
       "      <td>670.0</td>\n",
       "      <td>90</td>\n",
       "      <td>52.91</td>\n",
       "    </tr>\n",
       "    <tr>\n",
       "      <th>16</th>\n",
       "      <td>139.6</td>\n",
       "      <td>209.4</td>\n",
       "      <td>0.0</td>\n",
       "      <td>192.0</td>\n",
       "      <td>0.0</td>\n",
       "      <td>1047.0</td>\n",
       "      <td>806.9</td>\n",
       "      <td>90</td>\n",
       "      <td>39.36</td>\n",
       "    </tr>\n",
       "    <tr>\n",
       "      <th>17</th>\n",
       "      <td>342.0</td>\n",
       "      <td>38.0</td>\n",
       "      <td>0.0</td>\n",
       "      <td>228.0</td>\n",
       "      <td>0.0</td>\n",
       "      <td>932.0</td>\n",
       "      <td>670.0</td>\n",
       "      <td>365</td>\n",
       "      <td>56.14</td>\n",
       "    </tr>\n",
       "    <tr>\n",
       "      <th>18</th>\n",
       "      <td>380.0</td>\n",
       "      <td>95.0</td>\n",
       "      <td>0.0</td>\n",
       "      <td>228.0</td>\n",
       "      <td>0.0</td>\n",
       "      <td>932.0</td>\n",
       "      <td>594.0</td>\n",
       "      <td>90</td>\n",
       "      <td>40.56</td>\n",
       "    </tr>\n",
       "    <tr>\n",
       "      <th>19</th>\n",
       "      <td>475.0</td>\n",
       "      <td>0.0</td>\n",
       "      <td>0.0</td>\n",
       "      <td>228.0</td>\n",
       "      <td>0.0</td>\n",
       "      <td>932.0</td>\n",
       "      <td>594.0</td>\n",
       "      <td>180</td>\n",
       "      <td>42.62</td>\n",
       "    </tr>\n",
       "    <tr>\n",
       "      <th>20</th>\n",
       "      <td>427.5</td>\n",
       "      <td>47.5</td>\n",
       "      <td>0.0</td>\n",
       "      <td>228.0</td>\n",
       "      <td>0.0</td>\n",
       "      <td>932.0</td>\n",
       "      <td>594.0</td>\n",
       "      <td>180</td>\n",
       "      <td>41.84</td>\n",
       "    </tr>\n",
       "    <tr>\n",
       "      <th>21</th>\n",
       "      <td>139.6</td>\n",
       "      <td>209.4</td>\n",
       "      <td>0.0</td>\n",
       "      <td>192.0</td>\n",
       "      <td>0.0</td>\n",
       "      <td>1047.0</td>\n",
       "      <td>806.9</td>\n",
       "      <td>28</td>\n",
       "      <td>28.24</td>\n",
       "    </tr>\n",
       "    <tr>\n",
       "      <th>22</th>\n",
       "      <td>139.6</td>\n",
       "      <td>209.4</td>\n",
       "      <td>0.0</td>\n",
       "      <td>192.0</td>\n",
       "      <td>0.0</td>\n",
       "      <td>1047.0</td>\n",
       "      <td>806.9</td>\n",
       "      <td>3</td>\n",
       "      <td>8.06</td>\n",
       "    </tr>\n",
       "    <tr>\n",
       "      <th>23</th>\n",
       "      <td>139.6</td>\n",
       "      <td>209.4</td>\n",
       "      <td>0.0</td>\n",
       "      <td>192.0</td>\n",
       "      <td>0.0</td>\n",
       "      <td>1047.0</td>\n",
       "      <td>806.9</td>\n",
       "      <td>180</td>\n",
       "      <td>44.21</td>\n",
       "    </tr>\n",
       "    <tr>\n",
       "      <th>24</th>\n",
       "      <td>380.0</td>\n",
       "      <td>0.0</td>\n",
       "      <td>0.0</td>\n",
       "      <td>228.0</td>\n",
       "      <td>0.0</td>\n",
       "      <td>932.0</td>\n",
       "      <td>670.0</td>\n",
       "      <td>365</td>\n",
       "      <td>52.52</td>\n",
       "    </tr>\n",
       "  </tbody>\n",
       "</table>\n",
       "</div>"
      ],
      "text/plain": [
       "    cement  blast_furnace_slag  fly_ash  water  superplasticizer  \\\n",
       "0    540.0                 0.0      0.0  162.0               2.5   \n",
       "1    540.0                 0.0      0.0  162.0               2.5   \n",
       "2    332.5               142.5      0.0  228.0               0.0   \n",
       "3    332.5               142.5      0.0  228.0               0.0   \n",
       "4    198.6               132.4      0.0  192.0               0.0   \n",
       "5    266.0               114.0      0.0  228.0               0.0   \n",
       "6    380.0                95.0      0.0  228.0               0.0   \n",
       "7    380.0                95.0      0.0  228.0               0.0   \n",
       "8    266.0               114.0      0.0  228.0               0.0   \n",
       "9    475.0                 0.0      0.0  228.0               0.0   \n",
       "10   198.6               132.4      0.0  192.0               0.0   \n",
       "11   198.6               132.4      0.0  192.0               0.0   \n",
       "12   427.5                47.5      0.0  228.0               0.0   \n",
       "13   190.0               190.0      0.0  228.0               0.0   \n",
       "14   304.0                76.0      0.0  228.0               0.0   \n",
       "15   380.0                 0.0      0.0  228.0               0.0   \n",
       "16   139.6               209.4      0.0  192.0               0.0   \n",
       "17   342.0                38.0      0.0  228.0               0.0   \n",
       "18   380.0                95.0      0.0  228.0               0.0   \n",
       "19   475.0                 0.0      0.0  228.0               0.0   \n",
       "20   427.5                47.5      0.0  228.0               0.0   \n",
       "21   139.6               209.4      0.0  192.0               0.0   \n",
       "22   139.6               209.4      0.0  192.0               0.0   \n",
       "23   139.6               209.4      0.0  192.0               0.0   \n",
       "24   380.0                 0.0      0.0  228.0               0.0   \n",
       "\n",
       "    coarse_aggregate  fine_aggregate   age  concrete_compressive_strength  \n",
       "0             1040.0            676.0   28                          79.99  \n",
       "1             1055.0            676.0   28                          61.89  \n",
       "2              932.0            594.0  270                          40.27  \n",
       "3              932.0            594.0  365                          41.05  \n",
       "4              978.4            825.5  360                          44.30  \n",
       "5              932.0            670.0   90                          47.03  \n",
       "6              932.0            594.0  365                          43.70  \n",
       "7              932.0            594.0   28                          36.45  \n",
       "8              932.0            670.0   28                          45.85  \n",
       "9              932.0            594.0   28                          39.29  \n",
       "10             978.4            825.5   90                          38.07  \n",
       "11             978.4            825.5   28                          28.02  \n",
       "12             932.0            594.0  270                          43.01  \n",
       "13             932.0            670.0   90                          42.33  \n",
       "14             932.0            670.0   28                          47.81  \n",
       "15             932.0            670.0   90                          52.91  \n",
       "16            1047.0            806.9   90                          39.36  \n",
       "17             932.0            670.0  365                          56.14  \n",
       "18             932.0            594.0   90                          40.56  \n",
       "19             932.0            594.0  180                          42.62  \n",
       "20             932.0            594.0  180                          41.84  \n",
       "21            1047.0            806.9   28                          28.24  \n",
       "22            1047.0            806.9    3                           8.06  \n",
       "23            1047.0            806.9  180                          44.21  \n",
       "24             932.0            670.0  365                          52.52  "
      ]
     },
     "execution_count": 302,
     "metadata": {},
     "output_type": "execute_result"
    }
   ],
   "source": [
    "#exibir valores ausentes ou null\n",
    "df.isnull().sum().sort_values(ascending=False)[:10]\n",
    "print(\"Número de linhas e colunas:\", df.shape)\n",
    "attributes = list(df.columns)\n",
    "#removendo valores nulos\n",
    "df.dropna()\n",
    "\n",
    "#preencher os nulos\n",
    "df.fillna(df.mean(0))\n",
    "\n",
    "#remover duplicados\n",
    "df.drop_duplicates()\n",
    "df.head(25)"
   ]
  },
  {
   "cell_type": "code",
   "execution_count": 303,
   "metadata": {},
   "outputs": [],
   "source": [
    "#Passo 3 - Definir x e y"
   ]
  },
  {
   "cell_type": "code",
   "execution_count": 304,
   "metadata": {},
   "outputs": [
    {
     "name": "stdout",
     "output_type": "stream",
     "text": [
      "[[ 540.     0.     0.  ... 1040.   676.    28. ]\n",
      " [ 540.     0.     0.  ... 1055.   676.    28. ]\n",
      " [ 332.5  142.5    0.  ...  932.   594.   270. ]\n",
      " ...\n",
      " [ 148.5  139.4  108.6 ...  892.4  780.    28. ]\n",
      " [ 159.1  186.7    0.  ...  989.6  788.9   28. ]\n",
      " [ 260.9  100.5   78.3 ...  864.5  761.5   28. ]]\n",
      "[79.99 61.89 40.27 ... 23.7  32.77 32.4 ]\n"
     ]
    }
   ],
   "source": [
    "x = df.iloc[:, :-1].values\n",
    "y = df.iloc[:, -1].values\n",
    "\n",
    "print(x)\n",
    "print(y)"
   ]
  },
  {
   "cell_type": "code",
   "execution_count": 305,
   "metadata": {},
   "outputs": [],
   "source": [
    "#Passo 4 - Média"
   ]
  },
  {
   "cell_type": "code",
   "execution_count": 306,
   "metadata": {},
   "outputs": [
    {
     "name": "stdout",
     "output_type": "stream",
     "text": [
      "Média de x: 298.6481917475728\n",
      "Média de y: 35.817961165048544\n"
     ]
    }
   ],
   "source": [
    "averageX = np.mean(x) \n",
    "averageY = np.mean(y) \n",
    "\n",
    "print(\"Média de x: \" + str(averageX)) #calcula a média de x\n",
    "print(\"Média de y: \" + str(averageY))  #calcula a média de y"
   ]
  },
  {
   "cell_type": "code",
   "execution_count": 307,
   "metadata": {},
   "outputs": [],
   "source": [
    "#Passo 5 - Variância"
   ]
  },
  {
   "cell_type": "code",
   "execution_count": 308,
   "metadata": {},
   "outputs": [
    {
     "name": "stdout",
     "output_type": "stream",
     "text": [
      "Variância de x: 124174.2081423613\n",
      "Variância de y: 278.81086128004523\n"
     ]
    }
   ],
   "source": [
    "varianceX = np.var(x) \n",
    "varianceY = np.var(y) \n",
    "\n",
    "print(\"Variância de x: \" + str(varianceX))\n",
    "print(\"Variância de y: \" + str(varianceY)) "
   ]
  },
  {
   "cell_type": "code",
   "execution_count": 309,
   "metadata": {},
   "outputs": [],
   "source": [
    "#Passo 6 - Desvio Padrão"
   ]
  },
  {
   "cell_type": "code",
   "execution_count": 310,
   "metadata": {},
   "outputs": [
    {
     "name": "stdout",
     "output_type": "stream",
     "text": [
      "Desvio Padrão de x: 352.3836093554314\n",
      "Desvio Padrão de y: 16.697630409134263\n"
     ]
    }
   ],
   "source": [
    "deviationX = np.std(x)\n",
    "deviationY = np.std(y)\n",
    "\n",
    "print(\"Desvio Padrão de x: \" + str(deviationX)) #calcula o desvio padrão de x\n",
    "print(\"Desvio Padrão de y: \" + str(deviationY)) #calcula o desvio padrão de y  "
   ]
  },
  {
   "cell_type": "code",
   "execution_count": 311,
   "metadata": {},
   "outputs": [],
   "source": [
    "#Passo 7 - Mediana"
   ]
  },
  {
   "cell_type": "code",
   "execution_count": 312,
   "metadata": {},
   "outputs": [
    {
     "name": "stdout",
     "output_type": "stream",
     "text": [
      "Mediana de x: 162.0\n",
      "Mediana de y: 34.445\n"
     ]
    }
   ],
   "source": [
    "medianX = np.median(x)\n",
    "medianY = np.median(y)\n",
    "\n",
    "print(\"Mediana de x: \" + str(medianX)) #calcula o desvio padrão de x\n",
    "print(\"Mediana de y: \" + str(medianY)) #calcula o desvio padrão de y    "
   ]
  },
  {
   "cell_type": "code",
   "execution_count": 313,
   "metadata": {},
   "outputs": [],
   "source": [
    "#Passo 8 - Histograma"
   ]
  },
  {
   "cell_type": "code",
   "execution_count": 314,
   "metadata": {},
   "outputs": [],
   "source": [
    "# Histograma de x"
   ]
  },
  {
   "cell_type": "code",
   "execution_count": 315,
   "metadata": {},
   "outputs": [
    {
     "name": "stdout",
     "output_type": "stream",
     "text": [
      "[[ 540.     0.     0.  ... 1040.   676.    28. ]\n",
      " [ 540.     0.     0.  ... 1055.   676.    28. ]\n",
      " [ 332.5  142.5    0.  ...  932.   594.   270. ]\n",
      " ...\n",
      " [ 148.5  139.4  108.6 ...  892.4  780.    28. ]\n",
      " [ 159.1  186.7    0.  ...  989.6  788.9   28. ]\n",
      " [ 260.9  100.5   78.3 ...  864.5  761.5   28. ]]\n"
     ]
    },
    {
     "data": {
      "image/png": "[encoded data removed]",
      "text/plain": [
       "<Figure size 432x288 with 1 Axes>"
      ]
     },
     "metadata": {
      "needs_background": "light"
     },
     "output_type": "display_data"
    }
   ],
   "source": [
    "h = np.histogram(x, bins = 'auto') #calcula o histograma\n",
    "print(x)\n",
    "plt.hist(y, bins = 'auto')\n",
    "plt.title('Dados')\n",
    "plt.ylabel('Frequência')\n",
    "plt.xlabel('Valores')\n",
    "plt.show()"
   ]
  },
  {
   "cell_type": "code",
   "execution_count": 316,
   "metadata": {},
   "outputs": [],
   "source": [
    "# Histograma de y"
   ]
  },
  {
   "cell_type": "code",
   "execution_count": 317,
   "metadata": {},
   "outputs": [
    {
     "name": "stdout",
     "output_type": "stream",
     "text": [
      "(array([  9,  42,  66,  68,  65, 102,  86, 106, 115,  95,  52,  56,  59,\n",
      "        27,  22,  24,  13,  13,  10]), array([ 2.33      ,  6.55473684, 10.77947368, 15.00421053, 19.22894737,\n",
      "       23.45368421, 27.67842105, 31.90315789, 36.12789474, 40.35263158,\n",
      "       44.57736842, 48.80210526, 53.02684211, 57.25157895, 61.47631579,\n",
      "       65.70105263, 69.92578947, 74.15052632, 78.37526316, 82.6       ]))\n"
     ]
    },
    {
     "data": {
      "image/png": "[encoded data removed]",
      "text/plain": [
       "<Figure size 432x288 with 1 Axes>"
      ]
     },
     "metadata": {
      "needs_background": "light"
     },
     "output_type": "display_data"
    }
   ],
   "source": [
    "h = np.histogram(y, bins = 'auto') #calcula o histograma\n",
    "print(h)\n",
    "plt.hist(y, bins = 'auto')\n",
    "plt.title('Dados')\n",
    "plt.ylabel('Frequência')\n",
    "plt.xlabel('Valores')\n",
    "plt.show()"
   ]
  },
  {
   "cell_type": "code",
   "execution_count": 318,
   "metadata": {},
   "outputs": [],
   "source": [
    "#Passo 9 - Coeficiente de Correlação"
   ]
  },
  {
   "cell_type": "code",
   "execution_count": 320,
   "metadata": {},
   "outputs": [
    {
     "name": "stdout",
     "output_type": "stream",
     "text": [
      "\n",
      "\n",
      "\n",
      "\n",
      "Pearson\n",
      "                                 cement  blast_furnace_slag   fly_ash  \\\n",
      "cement                         1.000000           -0.275216 -0.397467   \n",
      "blast_furnace_slag            -0.275216            1.000000 -0.323580   \n",
      "fly_ash                       -0.397467           -0.323580  1.000000   \n",
      "water                         -0.081587            0.107252 -0.256984   \n",
      "superplasticizer               0.092386            0.043270  0.377503   \n",
      "coarse_aggregate              -0.109349           -0.283999 -0.009961   \n",
      "fine_aggregate                -0.222718           -0.281603  0.079108   \n",
      "age                            0.081946           -0.044246 -0.154371   \n",
      "concrete_compressive_strength  0.497832            0.134829 -0.105755   \n",
      "\n",
      "                                  water  superplasticizer  coarse_aggregate  \\\n",
      "cement                        -0.081587          0.092386         -0.109349   \n",
      "blast_furnace_slag             0.107252          0.043270         -0.283999   \n",
      "fly_ash                       -0.256984          0.377503         -0.009961   \n",
      "water                          1.000000         -0.657533         -0.182294   \n",
      "superplasticizer              -0.657533          1.000000         -0.265999   \n",
      "coarse_aggregate              -0.182294         -0.265999          1.000000   \n",
      "fine_aggregate                -0.450661          0.222691         -0.178481   \n",
      "age                            0.277618         -0.192700         -0.003016   \n",
      "concrete_compressive_strength -0.289633          0.366079         -0.164935   \n",
      "\n",
      "                               fine_aggregate        age  \\\n",
      "cement                               -0.222718  0.081946   \n",
      "blast_furnace_slag                   -0.281603 -0.044246   \n",
      "fly_ash                               0.079108 -0.154371   \n",
      "water                                -0.450661  0.277618   \n",
      "superplasticizer                      0.222691 -0.192700   \n",
      "coarse_aggregate                     -0.178481 -0.003016   \n",
      "fine_aggregate                        1.000000 -0.156095   \n",
      "age                                  -0.156095  1.000000   \n",
      "concrete_compressive_strength        -0.167241  0.328873   \n",
      "\n",
      "                               concrete_compressive_strength  \n",
      "cement                                              0.497832  \n",
      "blast_furnace_slag                                  0.134829  \n",
      "fly_ash                                            -0.105755  \n",
      "water                                              -0.289633  \n",
      "superplasticizer                                    0.366079  \n",
      "coarse_aggregate                                   -0.164935  \n",
      "fine_aggregate                                     -0.167241  \n",
      "age                                                 0.328873  \n",
      "concrete_compressive_strength                       1.000000  \n"
     ]
    }
   ],
   "source": [
    "#correlacao = np.corrcoef(x, y)\n",
    "#print(correlacao)\n",
    "\n",
    "print('\\n\\n\\n\\nPearson')\n",
    "print(df.corr(method='pearson'))"
   ]
  },
  {
   "cell_type": "code",
   "execution_count": 321,
   "metadata": {},
   "outputs": [],
   "source": [
    "#Passo 10 - Teste de Normalidade"
   ]
  },
  {
   "cell_type": "code",
   "execution_count": 322,
   "metadata": {},
   "outputs": [
    {
     "name": "stderr",
     "output_type": "stream",
     "text": [
      "/srv/conda/envs/notebook/lib/python3.7/site-packages/scipy/stats/morestats.py:1681: UserWarning: p-value may not be accurate for N > 5000.\n",
      "  warnings.warn(\"p-value may not be accurate for N > 5000.\")\n"
     ]
    },
    {
     "name": "stdout",
     "output_type": "stream",
     "text": [
      "Statistics=0.780, p=0.000\n",
      "Amostra não Gausssiana (rejeita H0)\n"
     ]
    },
    {
     "data": {
      "image/png": "[encoded data removed]",
      "text/plain": [
       "<Figure size 432x288 with 1 Axes>"
      ]
     },
     "metadata": {
      "needs_background": "light"
     },
     "output_type": "display_data"
    }
   ],
   "source": [
    "from scipy.stats import shapiro\n",
    "import pandas as pd\n",
    "import numpy as np\n",
    "from sklearn.linear_model import LinearRegression\n",
    "import matplotlib.pyplot as plt\n",
    "from sklearn import datasets\n",
    "\n",
    "\n",
    "# Analisar se a coluna sepal.length tem distribuição normal\n",
    "\n",
    "# normalidade test\n",
    "stat, p = shapiro(x)\n",
    "print('Statistics=%.3f, p=%.3f' % (stat, p))\n",
    "# interpretação\n",
    "alpha = 0.05\n",
    "if p > alpha:\n",
    "    print('Amostra Gaussiana (aceita H0)')\n",
    "else:\n",
    "    print('Amostra não Gausssiana (rejeita H0)')\n",
    "# Verificação atrav´s do histograma\n",
    "plt.hist(x, bins='auto')\n",
    "plt.title('Dados')\n",
    "plt.ylabel('Frequência')\n",
    "plt.xlabel('Valores')\n",
    "plt.show()"
   ]
  },
  {
   "cell_type": "code",
   "execution_count": 323,
   "metadata": {},
   "outputs": [
    {
     "name": "stdout",
     "output_type": "stream",
     "text": [
      "Statistics=0.980, p=0.000\n",
      "Amostra não Gausssiana (rejeita H0)\n"
     ]
    },
    {
     "data": {
      "image/png": "[encoded data removed]",
      "text/plain": [
       "<Figure size 432x288 with 1 Axes>"
      ]
     },
     "metadata": {
      "needs_background": "light"
     },
     "output_type": "display_data"
    }
   ],
   "source": [
    "\n",
    "# Analisar se a coluna sepal.length tem distribuição normal\n",
    "\n",
    "# normalidade test\n",
    "stat, p = shapiro(y)\n",
    "print('Statistics=%.3f, p=%.3f' % (stat, p))\n",
    "# interpretação\n",
    "alpha = 0.05\n",
    "if p > alpha:\n",
    "    print('Amostra Gaussiana (aceita H0)')\n",
    "else:\n",
    "    print('Amostra não Gausssiana (rejeita H0)')\n",
    "# Verificação atrav´s do histograma\n",
    "plt.hist(y, bins='auto')\n",
    "plt.title('Dados')\n",
    "plt.ylabel('Frequência')\n",
    "plt.xlabel('Valores')\n",
    "plt.show()"
   ]
  },
  {
   "cell_type": "code",
   "execution_count": null,
   "metadata": {},
   "outputs": [],
   "source": []
  }
 ],
 "metadata": {
  "kernelspec": {
   "display_name": "Python 3",
   "language": "python",
   "name": "python3"
  },
  "language_info": {
   "codemirror_mode": {
    "name": "ipython",
    "version": 3
   },
   "file_extension": ".py",
   "mimetype": "text/x-python",
   "name": "python",
   "nbconvert_exporter": "python",
   "pygments_lexer": "ipython3",
   "version": "3.7.8"
  }
 },
 "nbformat": 4,
 "nbformat_minor": 4
}
